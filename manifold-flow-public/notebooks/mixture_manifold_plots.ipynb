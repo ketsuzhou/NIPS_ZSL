{
 "cells": [
  {
   "cell_type": "markdown",
   "metadata": {},
   "source": [
    "# Mixture model on a polynomial surface: manifold plots"
   ]
  },
  {
   "cell_type": "code",
   "execution_count": 101,
   "metadata": {},
   "outputs": [],
   "source": [
    "%matplotlib inline\n",
    "\n",
    "import sys\n",
    "import numpy as np\n",
    "import matplotlib\n",
    "import torch\n",
    "import logging\n",
    "from matplotlib import pyplot as plt, cm\n",
    "from matplotlib.colors import LightSource\n",
    "from mpl_toolkits.mplot3d import Axes3D\n",
    "from matplotlib.collections import LineCollection\n",
    "\n",
    "sys.path.append(\"../../\")\n",
    "from experiments.datasets import PolynomialSurfaceSimulator\n",
    "from experiments.architectures.vector_transforms import create_vector_transform\n",
    "from manifold_flow.flows import ManifoldFlow, Flow\n",
    "import plot_settings as ps\n",
    "\n",
    "logging.basicConfig(\n",
    "    format=\"%(asctime)-5.5s %(name)-30.30s %(levelname)-7.7s %(message)s\",\n",
    "    datefmt=\"%H:%M\",\n",
    "    level=logging.DEBUG,\n",
    ")\n",
    "for key in logging.Logger.manager.loggerDict:\n",
    "    if \"experiments\" not in key and \"manifold_flow\" not in key:\n",
    "        logging.getLogger(key).setLevel(logging.WARNING)"
   ]
  },
  {
   "cell_type": "code",
   "execution_count": 6,
   "metadata": {},
   "outputs": [],
   "source": [
    "ps.setup()"
   ]
  },
  {
   "cell_type": "markdown",
   "metadata": {},
   "source": [
    "## Set up simulator"
   ]
  },
  {
   "cell_type": "code",
   "execution_count": 7,
   "metadata": {},
   "outputs": [],
   "source": [
    "sim = PolynomialSurfaceSimulator(\n",
    "    draw_constants=False,\n",
    "    filename=\"../data/samples/power/manifold.npz\"\n",
    ")\n"
   ]
  },
  {
   "cell_type": "markdown",
   "metadata": {},
   "source": [
    "## Load flows"
   ]
  },
  {
   "cell_type": "code",
   "execution_count": 9,
   "metadata": {},
   "outputs": [],
   "source": [
    "def load_af(filename):\n",
    "    transform = create_vector_transform(\n",
    "        3,\n",
    "        10,\n",
    "        linear_transform_type=\"permutation\",\n",
    "        base_transform_type=\"rq-coupling\",\n",
    "        context_features=sim.parameter_dim(),\n",
    "        dropout_probability=0.,\n",
    "        tail_bound=6.,\n",
    "        num_bins=10,\n",
    "    )\n",
    "\n",
    "    model = Flow(\n",
    "        data_dim=3,\n",
    "        transform=transform,\n",
    "    )\n",
    "    \n",
    "    model.load_state_dict(\n",
    "        torch.load(\"../data/models/{}.pt\".format(filename), map_location=torch.device(\"cpu\"))\n",
    "    )\n",
    "    _ = model.eval()\n",
    "    \n",
    "    return model\n",
    "\n",
    "\n",
    "def load_model(filename):\n",
    "    outer_transform = create_vector_transform(\n",
    "        3,\n",
    "        5,\n",
    "        linear_transform_type=\"permutation\",\n",
    "        base_transform_type=\"rq-coupling\",\n",
    "        context_features=None,\n",
    "        dropout_probability=0.,\n",
    "        tail_bound=6.,\n",
    "        num_bins=10,\n",
    "    )\n",
    "    inner_transform = create_vector_transform(\n",
    "        2,\n",
    "        5,\n",
    "        linear_transform_type=\"permutation\",\n",
    "        base_transform_type=\"rq-coupling\",\n",
    "        context_features=sim.parameter_dim(),\n",
    "        dropout_probability=0.,\n",
    "        tail_bound=6.,\n",
    "        num_bins=10,\n",
    "    )\n",
    "\n",
    "    model = ManifoldFlow(\n",
    "        data_dim=3,\n",
    "        latent_dim=2,\n",
    "        outer_transform=outer_transform,\n",
    "        inner_transform=inner_transform,\n",
    "        apply_context_to_outer=False,\n",
    "    )\n",
    "    \n",
    "    model.load_state_dict(\n",
    "        torch.load(\"../data/models/{}.pt\".format(filename), map_location=torch.device(\"cpu\"))\n",
    "    )\n",
    "    _ = model.eval()\n",
    "    \n",
    "    return model"
   ]
  },
  {
   "cell_type": "code",
   "execution_count": 10,
   "metadata": {},
   "outputs": [
    {
     "name": "stderr",
     "output_type": "stream",
     "text": [
      "14:42 manifold_flow.transforms.proje DEBUG   Set up projection from vector with dimension 3 to vector with dimension 2\n",
      "14:42 manifold_flow.flows.base       INFO    Model has 0.4 M parameters (0.4 M trainable) with an estimated size of 1.8 MB\n",
      "14:42 manifold_flow.flows.manifold_f INFO      Outer transform: 0.2 M parameters\n",
      "14:42 manifold_flow.flows.manifold_f INFO      Inner transform: 0.2 M parameters\n",
      "14:42 manifold_flow.transforms.proje DEBUG   Set up projection from vector with dimension 3 to vector with dimension 2\n",
      "14:42 manifold_flow.flows.base       INFO    Model has 0.4 M parameters (0.4 M trainable) with an estimated size of 1.8 MB\n",
      "14:42 manifold_flow.flows.manifold_f INFO      Outer transform: 0.2 M parameters\n",
      "14:42 manifold_flow.flows.manifold_f INFO      Inner transform: 0.2 M parameters\n",
      "14:42 manifold_flow.transforms.proje DEBUG   Set up projection from vector with dimension 3 to vector with dimension 2\n",
      "14:42 manifold_flow.flows.base       INFO    Model has 0.4 M parameters (0.4 M trainable) with an estimated size of 1.8 MB\n",
      "14:42 manifold_flow.flows.manifold_f INFO      Outer transform: 0.2 M parameters\n",
      "14:42 manifold_flow.flows.manifold_f INFO      Inner transform: 0.2 M parameters\n",
      "14:42 manifold_flow.flows.base       INFO    Model has 0.5 M parameters (0.5 M trainable) with an estimated size of 1.8 MB\n"
     ]
    }
   ],
   "source": [
    "mlfa = load_model(\"mf_2_power_alternate_march_run2\")\n",
    "pie = load_model(\"pie_2_power_march_run1\")\n",
    "mlfot = load_model(\"gamf_2_power_march_run2\")\n",
    "af = load_af(\"flow_2_power_march\")\n"
   ]
  },
  {
   "cell_type": "markdown",
   "metadata": {},
   "source": [
    "## Get data"
   ]
  },
  {
   "cell_type": "code",
   "execution_count": 11,
   "metadata": {},
   "outputs": [],
   "source": [
    "def make_grid(boundary, res):\n",
    "    grid_each = np.linspace(-boundary, boundary, res)\n",
    "    x, y = np.meshgrid(grid_each, grid_each)\n",
    "    xy = np.vstack((x.flatten(), y.flatten())).T\n",
    "    return xy"
   ]
  },
  {
   "cell_type": "code",
   "execution_count": 12,
   "metadata": {},
   "outputs": [],
   "source": [
    "thetas = [-1., 0., 1.]\n",
    "boundary = 4.\n",
    "res = 75\n",
    "\n",
    "z_grid = make_grid(boundary, res)\n",
    "f_grid = sim._fz(z_grid).flatten()\n",
    "x_grid = sim._transform_z_to_x(z_grid)"
   ]
  },
  {
   "cell_type": "code",
   "execution_count": 13,
   "metadata": {},
   "outputs": [],
   "source": [
    "true_logp_grid = np.array(\n",
    "    [sim._log_density_z(z_grid, parameters=theta*np.ones((res**2,1))).flatten() for theta in thetas]\n",
    ")\n"
   ]
  },
  {
   "cell_type": "code",
   "execution_count": 97,
   "metadata": {},
   "outputs": [],
   "source": [
    "def eval_model(model, algo, batchsize=400, xs=x_grid, thetas=thetas):\n",
    "    print(\"Let's go!\")\n",
    "    n_batches = (len(xs) - 1) // batchsize + 1\n",
    "\n",
    "    model_x_grid = []\n",
    "    model_logp_grid = []\n",
    "\n",
    "    for i_theta, theta in enumerate(thetas):\n",
    "        print(\"Theta {} / {}\".format(i_theta + 1, len(thetas)))\n",
    "        for i in range(n_batches):\n",
    "            print(\"Batch {} / {}\".format(i + 1, n_batches))\n",
    "            x_batch = xs[i*batchsize:(i+1)*batchsize]\n",
    "            n_batch = len(x_batch)\n",
    "\n",
    "            theta_ = torch.tensor(theta*np.ones((n_batch,1)), dtype=torch.float)\n",
    "            x_ = torch.tensor(x_batch, dtype=torch.float)\n",
    "\n",
    "            x_reco_, logp_, u_ = model(x_, mode=algo, context=theta_)\n",
    "            if algo==\"pie\":\n",
    "                _, logp_, _ = model(x_reco_, mode=algo, context=theta_)\n",
    "\n",
    "            model_x_grid.append(x_reco_.detach().numpy().flatten())\n",
    "            model_logp_grid.append(logp_.detach().numpy().flatten())\n",
    "\n",
    "    model_logp_grid = np.hstack(model_logp_grid).reshape((len(thetas), -1))\n",
    "    model_x_grid = np.hstack(model_x_grid).reshape((len(thetas), -1, 3))\n",
    "\n",
    "    return model_x_grid, model_logp_grid\n"
   ]
  },
  {
   "cell_type": "code",
   "execution_count": null,
   "metadata": {},
   "outputs": [],
   "source": [
    "mlfa_x_grid, mlfa_logp_grid = eval_model(mlfa, \"mf\")\n",
    "mlfot_x_grid, mlfot_logp_grid = eval_model(mlfot, \"mf\", thetas=[0.])"
   ]
  },
  {
   "cell_type": "code",
   "execution_count": null,
   "metadata": {},
   "outputs": [],
   "source": [
    "pie_x_grid, pie_logp_grid = eval_model(pie, \"pie\", thetas=[0.])"
   ]
  },
  {
   "cell_type": "code",
   "execution_count": null,
   "metadata": {},
   "outputs": [],
   "source": [
    "_,mlfa_pielogp_grid = eval_model(mlfa, \"pie\", thetas=[0.])\n",
    "_, pie_mlflogp_grid = eval_model(pie, \"mf\", thetas=[0.])"
   ]
  },
  {
   "cell_type": "markdown",
   "metadata": {},
   "source": [
    "## Get cross-section data"
   ]
  },
  {
   "cell_type": "code",
   "execution_count": 127,
   "metadata": {},
   "outputs": [],
   "source": [
    "grid_y = np.linspace(-5.0, 5.0, 300)\n",
    "grid_z = np.linspace(-2.5, 1.0, 100)\n",
    "y, z = np.meshgrid(grid_y, grid_z)\n",
    "x = np.zeros(len(y.flatten()))\n",
    "x_xs_grid = np.vstack((x, y.flatten(), z.flatten())).T"
   ]
  },
  {
   "cell_type": "code",
   "execution_count": 128,
   "metadata": {},
   "outputs": [],
   "source": [
    "def eval_af_model(model, batchsize=400, xs=x_grid, thetas=thetas):\n",
    "    n_batches = (len(xs) - 1) // batchsize + 1\n",
    "\n",
    "    model_x_grid = []\n",
    "    model_logp_grid = []\n",
    "\n",
    "    for i_theta, theta in enumerate(thetas):\n",
    "        for i in range(n_batches):\n",
    "            x_batch = xs[i*batchsize:(i+1)*batchsize]\n",
    "            n_batch = len(x_batch)\n",
    "\n",
    "            theta_ = torch.tensor(theta*np.ones((n_batch,1)), dtype=torch.float)\n",
    "            x_ = torch.tensor(x_batch, dtype=torch.float)\n",
    "            _, logp_, _ = model(x_, context=theta_)\n",
    "            model_logp_grid.append(logp_.detach().numpy().flatten())\n",
    "\n",
    "    model_logp_grid = np.hstack(model_logp_grid).reshape((len(thetas), -1))\n",
    "\n",
    "    return model_logp_grid\n",
    "\n"
   ]
  },
  {
   "cell_type": "code",
   "execution_count": 129,
   "metadata": {},
   "outputs": [],
   "source": [
    "af_logp_xs = eval_af_model(af, xs=x_xs_grid, thetas=[0.])"
   ]
  },
  {
   "cell_type": "code",
   "execution_count": 130,
   "metadata": {},
   "outputs": [],
   "source": [
    "y_fix = np.linspace(-5.5, 5.5, 500)\n",
    "x_xs_curve = np.zeros((500, 3))\n",
    "x_xs_curve[:, 1] = y_fix\n",
    "\n",
    "for _ in range(10):\n",
    "    z_xs_curve, _ = sim._transform_x_to_z(x_xs_curve)\n",
    "    x_xs_curve = sim._transform_z_to_x(z_xs_curve)\n",
    "    \n",
    "    x_xs_curve[:, 1] = y_fix\n",
    "    x_xs_curve[:, 0] = 0.\n"
   ]
  },
  {
   "cell_type": "code",
   "execution_count": 131,
   "metadata": {},
   "outputs": [
    {
     "name": "stdout",
     "output_type": "stream",
     "text": [
      "Let's go!\n",
      "Theta 1 / 1\n",
      "Batch 1 / 2\n",
      "Batch 2 / 2\n"
     ]
    }
   ],
   "source": [
    "mlfa_x_xs_curve, mlfa_logp_xs_curve = eval_model(mlfa, \"mf\", xs=x_xs_curve, thetas=[0.])\n",
    "mlfa_x_xs_curve_2d = mlfa_x_xs_curve[0, :, 1:3]\n",
    "mlfa_logp_xs_curve_2d = mlfa_logp_xs_curve[0, :]"
   ]
  },
  {
   "cell_type": "markdown",
   "metadata": {},
   "source": [
    "## Cross-section plot"
   ]
  },
  {
   "cell_type": "code",
   "execution_count": 165,
   "metadata": {},
   "outputs": [
    {
     "data": {
      "image/png": "[encoded data removed]",
      "text/plain": [
       "<Figure size 324x216 with 2 Axes>"
      ]
     },
     "metadata": {},
     "output_type": "display_data"
    }
   ],
   "source": [
    "cmin, cmax = -9., -3.\n",
    "label_kwargs={\"ha\":\"left\", \"va\":\"top\", \"x\":-4.6, \"y\":-1.8, \"fontsize\":14., \"fontweight\":\"500\"}\n",
    "\n",
    "plt.figure(figsize=(4.5, 3.))\n",
    "\n",
    "ax = plt.subplot(2,1,1)\n",
    "plt.imshow(\n",
    "    af_logp_xs[0].reshape((100, 300)),\n",
    "    extent=(-5., 5., -2.5, 1.0),\n",
    "    aspect=\"auto\",\n",
    "    cmap=ps.CMAP,\n",
    "    vmin=-20.,\n",
    "    vmax=0.,\n",
    "    origin=\"lower\"\n",
    ")\n",
    "plt.xticks([])\n",
    "plt.yticks([])\n",
    "ax.text(s=\"AF\", c=ps.COLOR_AF, **label_kwargs)\n",
    "\n",
    "ax = plt.subplot(2,1,2)\n",
    "for increase_size in [0.01, 0.]:\n",
    "    segments = np.concatenate([mlfa_x_xs_curve_2d[:-1,np.newaxis,:], mlfa_x_xs_curve_2d[1:,np.newaxis,:]], axis=1)\n",
    "    segments = [\n",
    "        [start - increase_size * (end - start)/np.linalg.norm(end - start),\n",
    "         end + increase_size * (end - start)/np.linalg.norm(end - start)]\n",
    "        for (start, end) in segments\n",
    "    ]\n",
    "    lc = LineCollection(segments, cmap=ps.CMAP, norm=plt.Normalize(cmin, cmax))\n",
    "    lc.set_array(np.clip(mlfa_logp_xs_curve_2d[:-1], cmin, cmax))\n",
    "    lc.set_linewidth(1.)\n",
    "    im = ax.add_collection(lc)\n",
    "    plt.xlim(-5., 5.)\n",
    "    plt.ylim(-2.5, 1.)\n",
    "plt.xticks([])\n",
    "plt.yticks([])\n",
    "ax.text(s=\"$\\mathcal{M}$-flow\", c=ps.COLOR_FLMA, **label_kwargs)\n",
    "            \n",
    "plt.subplots_adjust(\n",
    "    left=0.01,\n",
    "    right=0.99,\n",
    "    bottom=0.015,\n",
    "    top=0.985,\n",
    "    hspace=0.03,\n",
    "    wspace=0.03\n",
    ")\n",
    "plt.savefig(\"../figures/mixture_manifold_cross_section.pdf\", dpi=300)\n"
   ]
  },
  {
   "cell_type": "markdown",
   "metadata": {},
   "source": [
    "## Small plot"
   ]
  },
  {
   "cell_type": "code",
   "execution_count": null,
   "metadata": {},
   "outputs": [],
   "source": [
    "xs = [x_grid, mlfa_x_grid[0], x_grid, mlfa_x_grid[1], x_grid, mlfa_x_grid[2]]\n",
    "logps = [true_logp_grid[0], mlfa_logp_grid[0], true_logp_grid[1], mlfa_logp_grid[1], true_logp_grid[2], mlfa_logp_grid[2]]\n",
    "labels = [\n",
    "    r\"Ground truth, $\\theta = -1$\",\n",
    "    r\"$\\mathcal{M}$-flow, $\\theta = -1$\",\n",
    "    r\"Ground truth, $\\theta = 0$\",\n",
    "    r\"$\\mathcal{M}$-flow, $\\theta = 0$\",\n",
    "    r\"Ground truth, $\\theta = 1$\",\n",
    "    r\"$\\mathcal{M}$-flow, $\\theta = 1$\"\n",
    "]\n",
    "\n"
   ]
  },
  {
   "cell_type": "code",
   "execution_count": null,
   "metadata": {},
   "outputs": [],
   "source": [
    "cmin, cmax = -10., -2.\n",
    "\n",
    "def cmap(vals):\n",
    "    return ps.CMAP(np.clip((vals - cmin) / (cmax - cmin), 0., 1.))\n",
    "\n",
    "fig, gs = ps.grid_width(6, 1, sep=0.0, lb_space=False, t_space=True, small_margin=0.0, large_margin=0.1)\n",
    "\n",
    "for i, (x, logp, label) in enumerate(zip(xs, logps, labels)):\n",
    "    ax = plt.subplot(gs[i], projection=\"3d\")\n",
    "    cmin, cmax = -10., -2.\n",
    "        \n",
    "    rgb = cmap(logp).reshape((res, res, 4))\n",
    "    ls = LightSource(azdeg=90, altdeg=75)\n",
    "    rgb_shaded = ls.shade_rgb(\n",
    "        rgb[:,:,:3], elevation=x[:,2].reshape((res, res)), fraction=1.0, vert_exag=0.5, blend_mode=\"soft\"\n",
    "    )\n",
    "    \n",
    "    ax.plot_surface(\n",
    "        x[:,0].reshape((res, res)),\n",
    "        x[:,1].reshape((res, res)),\n",
    "        x[:,2].reshape((res, res)),\n",
    "        facecolors=rgb_shaded,\n",
    "        rstride=5, cstride=5,\n",
    "        shade=False\n",
    "    )\n",
    "    ax.plot_wireframe(\n",
    "        x[:,0].reshape((res, res)),\n",
    "        x[:,1].reshape((res, res)),\n",
    "        x[:,2].reshape((res, res)),\n",
    "        rstride=5, cstride=5,\n",
    "        linewidth=0.5,\n",
    "        colors=\"0.9\"\n",
    "    )\n",
    "\n",
    "    ax.set_xlim3d(-boundary, boundary)\n",
    "    ax.set_ylim3d(-boundary, boundary)\n",
    "    ax.set_zlim3d(-boundary, boundary)\n",
    "\n",
    "    ax.set_title(label, fontsize=ps.FONTSIZE, pad=10)\n",
    "    ax.set_xticklabels([\"\"]*3)\n",
    "    ax.set_yticklabels([\"\"]*3)\n",
    "    ax.set_zticklabels([\"\"]*3)\n",
    "    \n",
    "    ax.view_init(50, 65)\n",
    "\n",
    "plt.savefig(\"../figures/mixture_manifold_small.pdf\")\n"
   ]
  },
  {
   "cell_type": "markdown",
   "metadata": {},
   "source": [
    "## Large plot"
   ]
  },
  {
   "cell_type": "code",
   "execution_count": null,
   "metadata": {},
   "outputs": [],
   "source": [
    "xs = [\n",
    "    x_grid, pie_x_grid[0], mlfa_x_grid[1], mlfot_x_grid[0],\n",
    "    x_grid, mlfa_x_grid[0], x_grid, mlfa_x_grid[2]\n",
    "]\n",
    "logps = [\n",
    "    true_logp_grid[1], pie_logp_grid[0], mlfa_logp_grid[1], mlfot_logp_grid[0],\n",
    "    true_logp_grid[0], mlfa_logp_grid[0], true_logp_grid[2], mlfa_logp_grid[2]\n",
    "]\n",
    "labels = [\n",
    "    r\"Ground truth, $\\theta = 0$\",\n",
    "    r\"PIE, $\\theta = 0$\",\n",
    "    r\"$\\mathcal{M}$-flow (M/D), $\\theta = 0$\",\n",
    "    r\"$\\mathcal{M}$-flow (OT), $\\theta = 0$\",\n",
    "    #\n",
    "    r\"Ground truth, $\\theta = -1$\",\n",
    "    r\"$\\mathcal{M}$-flow (M/D), $\\theta = -1$\",\n",
    "    r\"Ground truth, $\\theta = 1$\",\n",
    "    r\"$\\mathcal{M}$-flow (M/D), $\\theta = 1$\"\n",
    "]\n"
   ]
  },
  {
   "cell_type": "code",
   "execution_count": null,
   "metadata": {},
   "outputs": [],
   "source": [
    "cmin, cmax = -10., -2.\n",
    "\n",
    "def cmap(vals):\n",
    "    return ps.CMAP(np.clip((vals - cmin) / (cmax - cmin), 0., 1.))\n",
    "\n",
    "\n",
    "fig, gs = ps.grid_width(4, 2, sep=0.03, lb_space=False)\n",
    "\n",
    "for i, (x, logp, label) in enumerate(zip(xs, logps, labels)):\n",
    "    ax = plt.subplot(gs[i], projection=\"3d\")\n",
    "    \n",
    "    if i == 1:\n",
    "        cmin, cmax = -8., 5.\n",
    "    else:\n",
    "        cmin, cmax = -10., -2.\n",
    "        \n",
    "    rgb = cmap(logp).reshape((res, res, 4))\n",
    "    ls = LightSource(azdeg=90, altdeg=75)\n",
    "    rgb_shaded = ls.shade_rgb(\n",
    "        rgb[:,:,:3], elevation=x[:,2].reshape((res, res)), fraction=1.0, vert_exag=0.5, blend_mode=\"soft\"\n",
    "    )\n",
    "    \n",
    "    if i == 1:\n",
    "        cut0 = 5\n",
    "        cut1 = 8\n",
    "        cut2 = 30\n",
    "        cut3 = 4\n",
    "        ax.plot_surface(\n",
    "            x[:,0].reshape((res, res))[cut0:-cut1,cut2:-cut3],\n",
    "            x[:,1].reshape((res, res))[cut0:-cut1,cut2:-cut3],\n",
    "            x[:,2].reshape((res, res))[cut0:-cut1,cut2:-cut3],\n",
    "            facecolors=rgb_shaded[cut0:-cut1,cut2:-cut3],\n",
    "            rstride=5, cstride=5,\n",
    "            # alpha=0.5,\n",
    "            shade=False\n",
    "        )\n",
    "        ax.plot_wireframe(\n",
    "            x[:,0].reshape((res, res))[cut0:-cut1,cut2:-cut3],\n",
    "            x[:,1].reshape((res, res))[cut0:-cut1,cut2:-cut3],\n",
    "            x[:,2].reshape((res, res))[cut0:-cut1,cut2:-cut3],\n",
    "            rstride=5, cstride=5,\n",
    "            linewidth=0.5,\n",
    "            colors=\"0.9\"\n",
    "        )\n",
    "    else:\n",
    "        ax.plot_surface(\n",
    "            x[:,0].reshape((res, res)),\n",
    "            x[:,1].reshape((res, res)),\n",
    "            x[:,2].reshape((res, res)),\n",
    "            facecolors=rgb_shaded,\n",
    "            rstride=5, cstride=5,\n",
    "            shade=False\n",
    "        )\n",
    "        ax.plot_wireframe(\n",
    "            x[:,0].reshape((res, res)),\n",
    "            x[:,1].reshape((res, res)),\n",
    "            x[:,2].reshape((res, res)),\n",
    "            rstride=5, cstride=5,\n",
    "            linewidth=0.5,\n",
    "            colors=\"0.9\"\n",
    "        )\n",
    "\n",
    "    ax.set_xlim3d(-boundary, boundary)\n",
    "    ax.set_ylim3d(-boundary, boundary)\n",
    "    ax.set_zlim3d(-boundary, boundary)\n",
    "\n",
    "    ax.set_title(label, fontsize=9, pad=10)\n",
    "    ax.set_xticklabels([\"\"]*3)\n",
    "    ax.set_yticklabels([\"\"]*3)\n",
    "    ax.set_zticklabels([\"\"]*3)\n",
    "    \n",
    "    ax.view_init(50, 65)\n",
    "\n",
    "plt.savefig(\"../figures/mixture_manifold.pdf\")\n"
   ]
  },
  {
   "cell_type": "markdown",
   "metadata": {},
   "source": [
    "## Compare slice and correct density"
   ]
  },
  {
   "cell_type": "code",
   "execution_count": null,
   "metadata": {},
   "outputs": [],
   "source": [
    "xs = [\n",
    "    mlfa_x_grid[1], mlfa_x_grid[1], mlfa_x_grid[1]\n",
    "]\n",
    "logps = [\n",
    "    mlfa_pielogp_grid[0], mlfa_logp_grid[1], mlfa_pielogp_grid[0] - mlfa_logp_grid[1]\n",
    "]\n",
    "labels = [\n",
    "    r\"PIE density\",\n",
    "    r\"MFMF density\",\n",
    "    r\"PIE density / MFMF density\",\n",
    "]\n",
    "\n"
   ]
  },
  {
   "cell_type": "code",
   "execution_count": null,
   "metadata": {},
   "outputs": [],
   "source": [
    "m = np.mean(mlfa_pielogp_grid[0] - mlfa_logp_grid[1])\n",
    "s = np.std(mlfa_pielogp_grid[0] - mlfa_logp_grid[1])\n",
    "\n",
    "np.exp(m - 2*s), np.exp(m + 2*s)"
   ]
  },
  {
   "cell_type": "code",
   "execution_count": null,
   "metadata": {},
   "outputs": [],
   "source": [
    "m = np.mean(mlfa_logp_grid[0])\n",
    "s = np.std(mlfa_logp_grid[0])\n",
    "\n",
    "np.exp(m - 2*s), np.exp(m + 2*s)"
   ]
  },
  {
   "cell_type": "code",
   "execution_count": null,
   "metadata": {},
   "outputs": [],
   "source": [
    "m = np.mean(mlfa_pielogp_grid[0])\n",
    "s = np.std(mlfa_pielogp_grid[0])\n",
    "\n",
    "np.exp(m - 2*s), np.exp(m + 2*s)"
   ]
  },
  {
   "cell_type": "code",
   "execution_count": null,
   "metadata": {},
   "outputs": [],
   "source": [
    "def cmap(vals):\n",
    "    return ps.CMAP(np.clip((vals - cmin) / (cmax - cmin), 0., 1.))\n",
    "\n",
    "\n",
    "fig, gs = ps.grid_width(3, 1, sep=0.03, lb_space=False)\n",
    "\n",
    "for i, (x, logp, label) in enumerate(zip(xs, logps, labels)):\n",
    "    ax = plt.subplot(gs[i], projection=\"3d\")\n",
    "    \n",
    "    cmin, cmax = np.mean(logp) - 2*np.std(logp), np.mean(logp) + 2*np.std(logp)\n",
    "    \n",
    "    rgb = cmap(logp).reshape((res, res, 4))\n",
    "    ls = LightSource(azdeg=90, altdeg=75)\n",
    "    rgb_shaded = ls.shade_rgb(\n",
    "        rgb[:,:,:3], elevation=x[:,2].reshape((res, res)), fraction=1.0, vert_exag=0.5, blend_mode=\"soft\"\n",
    "    )\n",
    "    \n",
    "    ax.plot_surface(\n",
    "        x[:,0].reshape((res, res)),\n",
    "        x[:,1].reshape((res, res)),\n",
    "        x[:,2].reshape((res, res)),\n",
    "        facecolors=rgb_shaded,\n",
    "        rstride=1, cstride = 1,\n",
    "        linewidth=1.,\n",
    "        shade=False\n",
    "    )\n",
    "\n",
    "    ax.set_xlim3d(-boundary, boundary)\n",
    "    ax.set_ylim3d(-boundary, boundary)\n",
    "    ax.set_zlim3d(-boundary, boundary)\n",
    "\n",
    "    ax.set_title(label, fontsize=9)\n",
    "#     ax.set_xlabel(\"x\")\n",
    "#     ax.set_ylabel(\"y\")\n",
    "#     ax.set_zlabel(\"z\")\n",
    "    # ax._axis3don = False\n",
    "    ax.set_xticklabels([\"\"]*3)\n",
    "    ax.set_yticklabels([\"\"]*3)\n",
    "    ax.set_zticklabels([\"\"]*3)\n",
    "    \n",
    "    ax.view_init(60, 60)\n",
    "\n",
    "plt.savefig(\"../figures/mixture_manifold_pie_vs_mlf_density.pdf\")\n"
   ]
  },
  {
   "cell_type": "code",
   "execution_count": null,
   "metadata": {},
   "outputs": [],
   "source": []
  }
 ],
 "metadata": {
  "kernelspec": {
   "display_name": "Python (ML)",
   "language": "python",
   "name": "ml"
  },
  "language_info": {
   "codemirror_mode": {
    "name": "ipython",
    "version": 3
   },
   "file_extension": ".py",
   "mimetype": "text/x-python",
   "name": "python",
   "nbconvert_exporter": "python",
   "pygments_lexer": "ipython3",
   "version": "3.7.3"
  }
 },
 "nbformat": 4,
 "nbformat_minor": 4
}
